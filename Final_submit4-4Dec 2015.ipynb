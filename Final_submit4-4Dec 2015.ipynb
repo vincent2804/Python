{
 "cells": [
  {
   "cell_type": "code",
   "execution_count": 1,
   "metadata": {
    "collapsed": true
   },
   "outputs": [],
   "source": [
    "### Rossmann Stores Sales Problem #### Group Project - IDIS -3802 -Data Science Analysis with Python "
   ]
  },
  {
   "cell_type": "code",
   "execution_count": 2,
   "metadata": {
    "collapsed": true
   },
   "outputs": [],
   "source": [
    "### Team members : Vincent Dsouza\n",
    "###              : Abhini Zainudeen\n",
    "###              : Vikram Kulkarni \n",
    "\n"
   ]
  },
  {
   "cell_type": "code",
   "execution_count": 3,
   "metadata": {
    "collapsed": true
   },
   "outputs": [],
   "source": [
    "%matplotlib inline"
   ]
  },
  {
   "cell_type": "code",
   "execution_count": null,
   "metadata": {
    "collapsed": true
   },
   "outputs": [],
   "source": []
  },
  {
   "cell_type": "code",
   "execution_count": 4,
   "metadata": {
    "collapsed": false
   },
   "outputs": [],
   "source": [
    "# Imports\n",
    "\n",
    "# pandas\n",
    "import pandas as pd\n",
    "from pandas import Series,DataFrame\n",
    "\n",
    "# numpy, matplotlib, seaborn\n",
    "import numpy as np\n",
    "import matplotlib.pyplot as plt\n",
    "import seaborn as sns\n",
    "sns.set_style('whitegrid')\n",
    "%matplotlib inline\n",
    "\n",
    "# machine learning\n",
    "from sklearn.linear_model import LinearRegression\n",
    "from sklearn.linear_model import LogisticRegression\n",
    "from sklearn.svm import SVC, LinearSVC\n",
    "from sklearn.ensemble import RandomForestClassifier\n",
    "from sklearn.neighbors import KNeighborsClassifier\n",
    "from sklearn.naive_bayes import GaussianNB"
   ]
  },
  {
   "cell_type": "code",
   "execution_count": 5,
   "metadata": {
    "collapsed": false
   },
   "outputs": [
    {
     "name": "stdout",
     "output_type": "stream",
     "text": [
      "Populating the interactive namespace from numpy and matplotlib\n"
     ]
    }
   ],
   "source": [
    "%pylab inline"
   ]
  },
  {
   "cell_type": "code",
   "execution_count": 6,
   "metadata": {
    "collapsed": true
   },
   "outputs": [],
   "source": [
    "import pandas as pd\n",
    "from pandas import Series,DataFrame"
   ]
  },
  {
   "cell_type": "code",
   "execution_count": 7,
   "metadata": {
    "collapsed": true
   },
   "outputs": [],
   "source": [
    "from __future__ import print_function, division\n",
    "from patsy import dmatrices, dmatrix"
   ]
  },
  {
   "cell_type": "code",
   "execution_count": 8,
   "metadata": {
    "collapsed": true
   },
   "outputs": [],
   "source": [
    "from sklearn.calibration import CalibratedClassifierCV\n",
    "from sklearn.ensemble import AdaBoostClassifier, RandomForestClassifier"
   ]
  },
  {
   "cell_type": "code",
   "execution_count": 9,
   "metadata": {
    "collapsed": true
   },
   "outputs": [],
   "source": [
    "\n",
    "from sklearn.linear_model import LogisticRegression\n",
    "from sklearn.tree import DecisionTreeClassifier"
   ]
  },
  {
   "cell_type": "code",
   "execution_count": 13,
   "metadata": {
    "collapsed": false
   },
   "outputs": [],
   "source": [
    "# pandas\n",
    "import pandas as pd\n",
    "from pandas import Series,DataFrame\n",
    "\n",
    "# numpy, matplotlib, seaborn\n",
    "import numpy as np\n",
    "import matplotlib.pyplot as plt\n",
    "import seaborn as sns\n",
    "sns.set_style('whitegrid')\n",
    "%matplotlib inline"
   ]
  },
  {
   "cell_type": "code",
   "execution_count": 14,
   "metadata": {
    "collapsed": true
   },
   "outputs": [],
   "source": [
    "# machine learning\n",
    "from sklearn.linear_model import LinearRegression\n",
    "from sklearn.linear_model import LogisticRegression\n",
    "from sklearn.svm import SVC, LinearSVC\n",
    "from sklearn.ensemble import RandomForestClassifier\n",
    "from sklearn.neighbors import KNeighborsClassifier\n",
    "from sklearn.naive_bayes import GaussianNB"
   ]
  },
  {
   "cell_type": "code",
   "execution_count": 15,
   "metadata": {
    "collapsed": false
   },
   "outputs": [
    {
     "name": "stderr",
     "output_type": "stream",
     "text": [
      "C:\\Users\\SCU\\Anaconda2\\lib\\site-packages\\IPython\\core\\interactiveshell.py:2902: DtypeWarning: Columns (7) have mixed types. Specify dtype option on import or set low_memory=False.\n",
      "  interactivity=interactivity, compiler=compiler, result=result)\n"
     ]
    },
    {
     "data": {
      "text/html": [
       "<div>\n",
       "<table border=\"1\" class=\"dataframe\">\n",
       "  <thead>\n",
       "    <tr style=\"text-align: right;\">\n",
       "      <th></th>\n",
       "      <th>Store</th>\n",
       "      <th>DayOfWeek</th>\n",
       "      <th>Date</th>\n",
       "      <th>Sales</th>\n",
       "      <th>Customers</th>\n",
       "      <th>Open</th>\n",
       "      <th>Promo</th>\n",
       "      <th>StateHoliday</th>\n",
       "      <th>SchoolHoliday</th>\n",
       "    </tr>\n",
       "  </thead>\n",
       "  <tbody>\n",
       "    <tr>\n",
       "      <th>0</th>\n",
       "      <td>1</td>\n",
       "      <td>5</td>\n",
       "      <td>2015-07-31</td>\n",
       "      <td>5263</td>\n",
       "      <td>555</td>\n",
       "      <td>1</td>\n",
       "      <td>1</td>\n",
       "      <td>0</td>\n",
       "      <td>1</td>\n",
       "    </tr>\n",
       "    <tr>\n",
       "      <th>1</th>\n",
       "      <td>2</td>\n",
       "      <td>5</td>\n",
       "      <td>2015-07-31</td>\n",
       "      <td>6064</td>\n",
       "      <td>625</td>\n",
       "      <td>1</td>\n",
       "      <td>1</td>\n",
       "      <td>0</td>\n",
       "      <td>1</td>\n",
       "    </tr>\n",
       "    <tr>\n",
       "      <th>2</th>\n",
       "      <td>3</td>\n",
       "      <td>5</td>\n",
       "      <td>2015-07-31</td>\n",
       "      <td>8314</td>\n",
       "      <td>821</td>\n",
       "      <td>1</td>\n",
       "      <td>1</td>\n",
       "      <td>0</td>\n",
       "      <td>1</td>\n",
       "    </tr>\n",
       "    <tr>\n",
       "      <th>3</th>\n",
       "      <td>4</td>\n",
       "      <td>5</td>\n",
       "      <td>2015-07-31</td>\n",
       "      <td>13995</td>\n",
       "      <td>1498</td>\n",
       "      <td>1</td>\n",
       "      <td>1</td>\n",
       "      <td>0</td>\n",
       "      <td>1</td>\n",
       "    </tr>\n",
       "    <tr>\n",
       "      <th>4</th>\n",
       "      <td>5</td>\n",
       "      <td>5</td>\n",
       "      <td>2015-07-31</td>\n",
       "      <td>4822</td>\n",
       "      <td>559</td>\n",
       "      <td>1</td>\n",
       "      <td>1</td>\n",
       "      <td>0</td>\n",
       "      <td>1</td>\n",
       "    </tr>\n",
       "  </tbody>\n",
       "</table>\n",
       "</div>"
      ],
      "text/plain": [
       "   Store  DayOfWeek        Date  Sales  Customers  Open  Promo StateHoliday  \\\n",
       "0      1          5  2015-07-31   5263        555     1      1            0   \n",
       "1      2          5  2015-07-31   6064        625     1      1            0   \n",
       "2      3          5  2015-07-31   8314        821     1      1            0   \n",
       "3      4          5  2015-07-31  13995       1498     1      1            0   \n",
       "4      5          5  2015-07-31   4822        559     1      1            0   \n",
       "\n",
       "   SchoolHoliday  \n",
       "0              1  \n",
       "1              1  \n",
       "2              1  \n",
       "3              1  \n",
       "4              1  "
      ]
     },
     "execution_count": 15,
     "metadata": {},
     "output_type": "execute_result"
    }
   ],
   "source": [
    "# get rossmann, store, & test csv files as a DataFrame\n",
    "rossmann_df  = pd.read_csv(\"train.csv\")\n",
    "store_df     = pd.read_csv(\"store.csv\")\n",
    "test_df      = pd.read_csv(\"test.csv\")\n",
    "\n",
    "# preview the data\n",
    "rossmann_df.head()"
   ]
  },
  {
   "cell_type": "code",
   "execution_count": 16,
   "metadata": {
    "collapsed": false
   },
   "outputs": [
    {
     "name": "stdout",
     "output_type": "stream",
     "text": [
      "<class 'pandas.core.frame.DataFrame'>\n",
      "Int64Index: 1017209 entries, 0 to 1017208\n",
      "Data columns (total 9 columns):\n",
      "Store            1017209 non-null int64\n",
      "DayOfWeek        1017209 non-null int64\n",
      "Date             1017209 non-null object\n",
      "Sales            1017209 non-null int64\n",
      "Customers        1017209 non-null int64\n",
      "Open             1017209 non-null int64\n",
      "Promo            1017209 non-null int64\n",
      "StateHoliday     1017209 non-null object\n",
      "SchoolHoliday    1017209 non-null int64\n",
      "dtypes: int64(7), object(2)\n",
      "memory usage: 77.6+ MB\n",
      "----------------------------\n",
      "<class 'pandas.core.frame.DataFrame'>\n",
      "Int64Index: 1115 entries, 0 to 1114\n",
      "Data columns (total 10 columns):\n",
      "Store                        1115 non-null int64\n",
      "StoreType                    1115 non-null object\n",
      "Assortment                   1115 non-null object\n",
      "CompetitionDistance          1112 non-null float64\n",
      "CompetitionOpenSinceMonth    761 non-null float64\n",
      "CompetitionOpenSinceYear     761 non-null float64\n",
      "Promo2                       1115 non-null int64\n",
      "Promo2SinceWeek              571 non-null float64\n",
      "Promo2SinceYear              571 non-null float64\n",
      "PromoInterval                571 non-null object\n",
      "dtypes: float64(5), int64(2), object(3)\n",
      "memory usage: 95.8+ KB\n",
      "----------------------------\n",
      "<class 'pandas.core.frame.DataFrame'>\n",
      "Int64Index: 41088 entries, 0 to 41087\n",
      "Data columns (total 8 columns):\n",
      "Id               41088 non-null int64\n",
      "Store            41088 non-null int64\n",
      "DayOfWeek        41088 non-null int64\n",
      "Date             41088 non-null object\n",
      "Open             41077 non-null float64\n",
      "Promo            41088 non-null int64\n",
      "StateHoliday     41088 non-null object\n",
      "SchoolHoliday    41088 non-null int64\n",
      "dtypes: float64(1), int64(5), object(2)\n",
      "memory usage: 2.8+ MB\n"
     ]
    }
   ],
   "source": [
    "rossmann_df.info()\n",
    "print(\"----------------------------\")\n",
    "store_df.info()\n",
    "print(\"----------------------------\")\n",
    "test_df.info()"
   ]
  },
  {
   "cell_type": "code",
   "execution_count": 17,
   "metadata": {
    "collapsed": true
   },
   "outputs": [],
   "source": [
    "train_file = 'train.csv'\n",
    "test_file = 'test.csv'\n",
    "output_file ='predictions.csv'\n",
    "store = 'store.csv'"
   ]
  },
  {
   "cell_type": "code",
   "execution_count": 18,
   "metadata": {
    "collapsed": false
   },
   "outputs": [],
   "source": [
    "train = pd.read_csv( train_file )\n",
    "test = pd.read_csv( test_file )\n",
    "store=pd.read_csv( store )"
   ]
  },
  {
   "cell_type": "code",
   "execution_count": 19,
   "metadata": {
    "collapsed": false
   },
   "outputs": [
    {
     "data": {
      "text/html": [
       "<div>\n",
       "<table border=\"1\" class=\"dataframe\">\n",
       "  <thead>\n",
       "    <tr style=\"text-align: right;\">\n",
       "      <th></th>\n",
       "      <th>Store</th>\n",
       "      <th>DayOfWeek</th>\n",
       "      <th>Date</th>\n",
       "      <th>Sales</th>\n",
       "      <th>Customers</th>\n",
       "      <th>Open</th>\n",
       "      <th>Promo</th>\n",
       "      <th>StateHoliday</th>\n",
       "      <th>SchoolHoliday</th>\n",
       "    </tr>\n",
       "  </thead>\n",
       "  <tbody>\n",
       "    <tr>\n",
       "      <th>0</th>\n",
       "      <td>1</td>\n",
       "      <td>5</td>\n",
       "      <td>2015-07-31</td>\n",
       "      <td>5263</td>\n",
       "      <td>555</td>\n",
       "      <td>1</td>\n",
       "      <td>1</td>\n",
       "      <td>0</td>\n",
       "      <td>1</td>\n",
       "    </tr>\n",
       "    <tr>\n",
       "      <th>1</th>\n",
       "      <td>2</td>\n",
       "      <td>5</td>\n",
       "      <td>2015-07-31</td>\n",
       "      <td>6064</td>\n",
       "      <td>625</td>\n",
       "      <td>1</td>\n",
       "      <td>1</td>\n",
       "      <td>0</td>\n",
       "      <td>1</td>\n",
       "    </tr>\n",
       "    <tr>\n",
       "      <th>2</th>\n",
       "      <td>3</td>\n",
       "      <td>5</td>\n",
       "      <td>2015-07-31</td>\n",
       "      <td>8314</td>\n",
       "      <td>821</td>\n",
       "      <td>1</td>\n",
       "      <td>1</td>\n",
       "      <td>0</td>\n",
       "      <td>1</td>\n",
       "    </tr>\n",
       "    <tr>\n",
       "      <th>3</th>\n",
       "      <td>4</td>\n",
       "      <td>5</td>\n",
       "      <td>2015-07-31</td>\n",
       "      <td>13995</td>\n",
       "      <td>1498</td>\n",
       "      <td>1</td>\n",
       "      <td>1</td>\n",
       "      <td>0</td>\n",
       "      <td>1</td>\n",
       "    </tr>\n",
       "    <tr>\n",
       "      <th>4</th>\n",
       "      <td>5</td>\n",
       "      <td>5</td>\n",
       "      <td>2015-07-31</td>\n",
       "      <td>4822</td>\n",
       "      <td>559</td>\n",
       "      <td>1</td>\n",
       "      <td>1</td>\n",
       "      <td>0</td>\n",
       "      <td>1</td>\n",
       "    </tr>\n",
       "  </tbody>\n",
       "</table>\n",
       "</div>"
      ],
      "text/plain": [
       "   Store  DayOfWeek        Date  Sales  Customers  Open  Promo StateHoliday  \\\n",
       "0      1          5  2015-07-31   5263        555     1      1            0   \n",
       "1      2          5  2015-07-31   6064        625     1      1            0   \n",
       "2      3          5  2015-07-31   8314        821     1      1            0   \n",
       "3      4          5  2015-07-31  13995       1498     1      1            0   \n",
       "4      5          5  2015-07-31   4822        559     1      1            0   \n",
       "\n",
       "   SchoolHoliday  \n",
       "0              1  \n",
       "1              1  \n",
       "2              1  \n",
       "3              1  \n",
       "4              1  "
      ]
     },
     "execution_count": 19,
     "metadata": {},
     "output_type": "execute_result"
    }
   ],
   "source": [
    "train.head()"
   ]
  },
  {
   "cell_type": "code",
   "execution_count": 20,
   "metadata": {
    "collapsed": false
   },
   "outputs": [
    {
     "name": "stderr",
     "output_type": "stream",
     "text": [
      "C:\\Users\\SCU\\Anaconda2\\lib\\site-packages\\ipykernel\\__main__.py:4: SettingWithCopyWarning: \n",
      "A value is trying to be set on a copy of a slice from a DataFrame\n",
      "\n",
      "See the caveats in the documentation: http://pandas.pydata.org/pandas-docs/stable/indexing.html#indexing-view-versus-copy\n"
     ]
    }
   ],
   "source": [
    "all_data = pd.merge(train, store, on='Store', how='left')\n",
    "\n",
    "# clean StateHoliday column\n",
    "all_data['StateHoliday'][all_data['StateHoliday'] == 0 ] = '0'"
   ]
  },
  {
   "cell_type": "code",
   "execution_count": 21,
   "metadata": {
    "collapsed": true
   },
   "outputs": [],
   "source": [
    "import matplotlib.pyplot as pl"
   ]
  },
  {
   "cell_type": "code",
   "execution_count": 22,
   "metadata": {
    "collapsed": false
   },
   "outputs": [
    {
     "name": "stderr",
     "output_type": "stream",
     "text": [
      "C:\\Users\\SCU\\Anaconda2\\lib\\site-packages\\matplotlib\\collections.py:590: FutureWarning: elementwise comparison failed; returning scalar instead, but in the future will perform elementwise comparison\n",
      "  if self._edgecolors == str('face'):\n"
     ]
    },
    {
     "data": {
      "image/png": "[encoded data removed]",
      "text/plain": [
       "<matplotlib.figure.Figure at 0x1f9511d0>"
      ]
     },
     "metadata": {},
     "output_type": "display_data"
    }
   ],
   "source": [
    "# count open stores by week day\n",
    "#print(train.groupby(['DayOfWeek']).sum())\n",
    "#print(all_data[['DayOfWeek', 'Open', 'Sales', 'Customers']].groupby(['DayOfWeek', 'Open']).agg([np.sum, np.mean, np.std]))\n",
    "\n",
    "avg_per_store = all_data[['Sales', 'Store']].groupby('Store').mean()\n",
    "avg_per_store.reset_index().plot(kind='scatter', x='Store', y='Sales')\n",
    "pl.savefig('avg_per_store.reset.index.png')"
   ]
  },
  {
   "cell_type": "code",
   "execution_count": 23,
   "metadata": {
    "collapsed": false
   },
   "outputs": [
    {
     "data": {
      "image/png": "[encoded data removed]",
      "text/plain": [
       "<matplotlib.figure.Figure at 0x266010b8>"
      ]
     },
     "metadata": {},
     "output_type": "display_data"
    }
   ],
   "source": [
    "# More sales on Monday and followed by Tuesday\n",
    "# average sales and customers by week day\n",
    "avg_per_weekday = all_data[['Sales', 'DayOfWeek']].groupby('DayOfWeek').mean()\n",
    "avg_per_weekday.reset_index().plot(kind='bar', x='DayOfWeek', y='Sales')\n",
    "pl.savefig('avg_per_weekday.reset.index.png')"
   ]
  },
  {
   "cell_type": "code",
   "execution_count": 24,
   "metadata": {
    "collapsed": false
   },
   "outputs": [
    {
     "data": {
      "image/png": "[encoded data removed]",
      "text/plain": [
       "<matplotlib.figure.Figure at 0x2737e4e0>"
      ]
     },
     "metadata": {},
     "output_type": "display_data"
    }
   ],
   "source": [
    "# State holidays is not driving much of sales incomparision to Promotion\n",
    "avg_stateholiday = all_data[['Sales', 'Customers', 'StateHoliday']].groupby('StateHoliday').mean()\n",
    "avg_stateholiday.plot(kind='bar')\n",
    "pl.savefig('avg_stateholiday.png')"
   ]
  },
  {
   "cell_type": "code",
   "execution_count": 25,
   "metadata": {
    "collapsed": false
   },
   "outputs": [
    {
     "data": {
      "image/png": "[encoded data removed]",
      "text/plain": [
       "<matplotlib.figure.Figure at 0x25587320>"
      ]
     },
     "metadata": {},
     "output_type": "display_data"
    }
   ],
   "source": [
    "#Store type b had higher average sales than other store types\n",
    "avg_stateholiday = all_data[['Sales', 'Customers', 'StoreType']].groupby('StoreType').mean()\n",
    "avg_stateholiday.plot(kind='bar')\n",
    "pl.savefig('avg_stateholiday.png')"
   ]
  },
  {
   "cell_type": "code",
   "execution_count": null,
   "metadata": {
    "collapsed": true
   },
   "outputs": [],
   "source": []
  },
  {
   "cell_type": "code",
   "execution_count": 26,
   "metadata": {
    "collapsed": false
   },
   "outputs": [
    {
     "data": {
      "image/png": "[encoded data removed]",
      "text/plain": [
       "<matplotlib.figure.Figure at 0x27371da0>"
      ]
     },
     "metadata": {},
     "output_type": "display_data"
    }
   ],
   "source": [
    "# Assortment level b was driving most of the sales for the stores \n",
    "avg_stateholiday = all_data[['Sales', 'Customers', 'Assortment']].groupby('Assortment').mean()\n",
    "avg_stateholiday.plot(kind='bar')\n",
    "pl.savefig('avg_stateholiday.png')"
   ]
  },
  {
   "cell_type": "code",
   "execution_count": 27,
   "metadata": {
    "collapsed": false
   },
   "outputs": [
    {
     "data": {
      "image/png": "[encoded data removed]",
      "text/plain": [
       "<matplotlib.figure.Figure at 0x1fc58358>"
      ]
     },
     "metadata": {},
     "output_type": "display_data"
    }
   ],
   "source": [
    "#Promotion is not bringing in new customers but is encouraging customers to spend more\n",
    "avg_promotion = all_data[['Sales', 'Customers', 'Promo']].groupby('Promo').mean()\n",
    "avg_promotion.plot(kind='bar')\n",
    "pl.savefig('avg_promotion.png')"
   ]
  },
  {
   "cell_type": "code",
   "execution_count": 28,
   "metadata": {
    "collapsed": true
   },
   "outputs": [],
   "source": [
    "## remove rows where store were closed\n",
    "train = train.loc[train.Sales > 0]"
   ]
  },
  {
   "cell_type": "code",
   "execution_count": 29,
   "metadata": {
    "collapsed": true
   },
   "outputs": [],
   "source": [
    "# remove NaNs from Open\n",
    "test.loc[ test.Open.isnull(), 'Open' ] = 1"
   ]
  },
  {
   "cell_type": "code",
   "execution_count": 30,
   "metadata": {
    "collapsed": true
   },
   "outputs": [],
   "source": [
    "columns = ['Store', 'DayOfWeek', 'Promo']"
   ]
  },
  {
   "cell_type": "code",
   "execution_count": 31,
   "metadata": {
    "collapsed": true
   },
   "outputs": [],
   "source": [
    "medians = train.groupby( columns )['Sales'].median()\n",
    "medians = medians.reset_index()"
   ]
  },
  {
   "cell_type": "code",
   "execution_count": 32,
   "metadata": {
    "collapsed": true
   },
   "outputs": [],
   "source": [
    "test2 = pd.merge( test, medians, on = columns, how = 'left' )\n",
    "assert( len( test2 ) == len( test ))"
   ]
  },
  {
   "cell_type": "code",
   "execution_count": 33,
   "metadata": {
    "collapsed": true
   },
   "outputs": [],
   "source": [
    "test2.loc[ test2.Open == 0, 'Sales' ] = 0\n",
    "assert( test2.Sales.isnull().sum() == 0 )"
   ]
  },
  {
   "cell_type": "code",
   "execution_count": 34,
   "metadata": {
    "collapsed": false
   },
   "outputs": [],
   "source": [
    "test2[[ 'Id', 'Sales' ]].to_csv( output_file, index = False )"
   ]
  },
  {
   "cell_type": "code",
   "execution_count": null,
   "metadata": {
    "collapsed": true
   },
   "outputs": [],
   "source": []
  },
  {
   "cell_type": "code",
   "execution_count": null,
   "metadata": {
    "collapsed": true
   },
   "outputs": [],
   "source": []
  },
  {
   "cell_type": "code",
   "execution_count": 35,
   "metadata": {
    "collapsed": false
   },
   "outputs": [],
   "source": [
    "# Date\n",
    "\n",
    "# Create Year and Month columns\n",
    "rossmann_df['Year']  = rossmann_df['Date'].apply(lambda x: int(str(x)[:4]))\n",
    "rossmann_df['Month'] = rossmann_df['Date'].apply(lambda x: int(str(x)[5:7]))\n",
    "\n",
    "test_df['Year']  = test_df['Date'].apply(lambda x: int(str(x)[:4]))\n",
    "test_df['Month'] = test_df['Date'].apply(lambda x: int(str(x)[5:7]))"
   ]
  },
  {
   "cell_type": "code",
   "execution_count": 36,
   "metadata": {
    "collapsed": true
   },
   "outputs": [],
   "source": [
    "# Assign Date column to Date(Year-Month) instead of (Year-Month-Day)\n",
    "# this column will be useful in analysis and visualization\n",
    "rossmann_df['Date'] = rossmann_df['Date'].apply(lambda x: (str(x)[:7]))\n",
    "test_df['Date']     = test_df['Date'].apply(lambda x: (str(x)[:7]))"
   ]
  },
  {
   "cell_type": "code",
   "execution_count": 37,
   "metadata": {
    "collapsed": true
   },
   "outputs": [],
   "source": [
    "# group by date and get average sales, and precent change\n",
    "average_sales    = rossmann_df.groupby('Date')[\"Sales\"].mean()\n",
    "pct_change_sales = rossmann_df.groupby('Date')[\"Sales\"].sum().pct_change()"
   ]
  },
  {
   "cell_type": "code",
   "execution_count": null,
   "metadata": {
    "collapsed": true
   },
   "outputs": [],
   "source": []
  },
  {
   "cell_type": "code",
   "execution_count": null,
   "metadata": {
    "collapsed": true
   },
   "outputs": [],
   "source": []
  },
  {
   "cell_type": "code",
   "execution_count": null,
   "metadata": {
    "collapsed": true
   },
   "outputs": [],
   "source": []
  },
  {
   "cell_type": "code",
   "execution_count": 38,
   "metadata": {
    "collapsed": false
   },
   "outputs": [
    {
     "name": "stderr",
     "output_type": "stream",
     "text": [
      "C:\\Users\\SCU\\Anaconda2\\lib\\site-packages\\pandas\\core\\indexing.py:115: SettingWithCopyWarning: \n",
      "A value is trying to be set on a copy of a slice from a DataFrame\n",
      "\n",
      "See the caveats in the documentation: http://pandas.pydata.org/pandas-docs/stable/indexing.html#indexing-view-versus-copy\n",
      "  self._setitem_with_indexer(indexer, value)\n"
     ]
    }
   ],
   "source": [
    "# StateHoliday\n",
    "\n",
    "# StateHoliday column has values 0 & \"0\", So, we need to merge values with 0 to \"0\"\n",
    "rossmann_df[\"StateHoliday\"].loc[rossmann_df[\"StateHoliday\"] == 0] = \"0\"\n",
    "# test_df[\"StateHoliday\"].loc[test_df[\"StateHoliday\"] == 0] = \"0\"\n",
    "\n"
   ]
  },
  {
   "cell_type": "code",
   "execution_count": 39,
   "metadata": {
    "collapsed": true
   },
   "outputs": [],
   "source": [
    "# StateHoliday\n",
    "\n",
    "# After\n",
    "rossmann_df[\"StateHoliday\"] = rossmann_df[\"StateHoliday\"].map({0: 0, \"0\": 0, \"a\": 1, \"b\": 1, \"c\": 1})\n",
    "test_df[\"StateHoliday\"]     = test_df[\"StateHoliday\"].map({0: 0, \"0\": 0, \"a\": 1, \"b\": 1, \"c\": 1})\n",
    "\n"
   ]
  },
  {
   "cell_type": "code",
   "execution_count": 40,
   "metadata": {
    "collapsed": false
   },
   "outputs": [
    {
     "data": {
      "text/html": [
       "<div>\n",
       "<table border=\"1\" class=\"dataframe\">\n",
       "  <thead>\n",
       "    <tr style=\"text-align: right;\">\n",
       "      <th></th>\n",
       "      <th>Store</th>\n",
       "      <th>Sales</th>\n",
       "      <th>Customers</th>\n",
       "      <th>StoreType</th>\n",
       "      <th>Assortment</th>\n",
       "      <th>CompetitionDistance</th>\n",
       "      <th>CompetitionOpenSinceMonth</th>\n",
       "      <th>CompetitionOpenSinceYear</th>\n",
       "      <th>Promo2</th>\n",
       "      <th>Promo2SinceWeek</th>\n",
       "      <th>Promo2SinceYear</th>\n",
       "      <th>PromoInterval</th>\n",
       "    </tr>\n",
       "  </thead>\n",
       "  <tbody>\n",
       "    <tr>\n",
       "      <th>0</th>\n",
       "      <td>1</td>\n",
       "      <td>3945.704883</td>\n",
       "      <td>467.646497</td>\n",
       "      <td>c</td>\n",
       "      <td>a</td>\n",
       "      <td>1270</td>\n",
       "      <td>9</td>\n",
       "      <td>2008</td>\n",
       "      <td>0</td>\n",
       "      <td>NaN</td>\n",
       "      <td>NaN</td>\n",
       "      <td>NaN</td>\n",
       "    </tr>\n",
       "    <tr>\n",
       "      <th>1</th>\n",
       "      <td>2</td>\n",
       "      <td>4122.991507</td>\n",
       "      <td>486.045648</td>\n",
       "      <td>a</td>\n",
       "      <td>a</td>\n",
       "      <td>570</td>\n",
       "      <td>11</td>\n",
       "      <td>2007</td>\n",
       "      <td>1</td>\n",
       "      <td>13</td>\n",
       "      <td>2010</td>\n",
       "      <td>Jan,Apr,Jul,Oct</td>\n",
       "    </tr>\n",
       "    <tr>\n",
       "      <th>2</th>\n",
       "      <td>3</td>\n",
       "      <td>5741.253715</td>\n",
       "      <td>620.286624</td>\n",
       "      <td>a</td>\n",
       "      <td>a</td>\n",
       "      <td>14130</td>\n",
       "      <td>12</td>\n",
       "      <td>2006</td>\n",
       "      <td>1</td>\n",
       "      <td>14</td>\n",
       "      <td>2011</td>\n",
       "      <td>Jan,Apr,Jul,Oct</td>\n",
       "    </tr>\n",
       "    <tr>\n",
       "      <th>3</th>\n",
       "      <td>4</td>\n",
       "      <td>8021.769639</td>\n",
       "      <td>1100.057325</td>\n",
       "      <td>c</td>\n",
       "      <td>c</td>\n",
       "      <td>620</td>\n",
       "      <td>9</td>\n",
       "      <td>2009</td>\n",
       "      <td>0</td>\n",
       "      <td>NaN</td>\n",
       "      <td>NaN</td>\n",
       "      <td>NaN</td>\n",
       "    </tr>\n",
       "    <tr>\n",
       "      <th>4</th>\n",
       "      <td>5</td>\n",
       "      <td>3867.110403</td>\n",
       "      <td>444.360934</td>\n",
       "      <td>a</td>\n",
       "      <td>a</td>\n",
       "      <td>29910</td>\n",
       "      <td>4</td>\n",
       "      <td>2015</td>\n",
       "      <td>0</td>\n",
       "      <td>NaN</td>\n",
       "      <td>NaN</td>\n",
       "      <td>NaN</td>\n",
       "    </tr>\n",
       "  </tbody>\n",
       "</table>\n",
       "</div>"
      ],
      "text/plain": [
       "   Store        Sales    Customers StoreType Assortment  CompetitionDistance  \\\n",
       "0      1  3945.704883   467.646497         c          a                 1270   \n",
       "1      2  4122.991507   486.045648         a          a                  570   \n",
       "2      3  5741.253715   620.286624         a          a                14130   \n",
       "3      4  8021.769639  1100.057325         c          c                  620   \n",
       "4      5  3867.110403   444.360934         a          a                29910   \n",
       "\n",
       "   CompetitionOpenSinceMonth  CompetitionOpenSinceYear  Promo2  \\\n",
       "0                          9                      2008       0   \n",
       "1                         11                      2007       1   \n",
       "2                         12                      2006       1   \n",
       "3                          9                      2009       0   \n",
       "4                          4                      2015       0   \n",
       "\n",
       "   Promo2SinceWeek  Promo2SinceYear    PromoInterval  \n",
       "0              NaN              NaN              NaN  \n",
       "1               13             2010  Jan,Apr,Jul,Oct  \n",
       "2               14             2011  Jan,Apr,Jul,Oct  \n",
       "3              NaN              NaN              NaN  \n",
       "4              NaN              NaN              NaN  "
      ]
     },
     "execution_count": 40,
     "metadata": {},
     "output_type": "execute_result"
    }
   ],
   "source": [
    "# Using store_df\n",
    "\n",
    "# Merge store_df with average store sales & customers\n",
    "average_sales_customers = rossmann_df.groupby('Store')[[\"Sales\", \"Customers\"]].mean()\n",
    "sales_customers_df = DataFrame({'Store':average_sales_customers.index,\n",
    "                      'Sales':average_sales_customers[\"Sales\"], 'Customers': average_sales_customers[\"Customers\"]}, \n",
    "                      columns=['Store', 'Sales', 'Customers'])\n",
    "store_df = pd.merge(sales_customers_df, store_df, on='Store')\n",
    "\n",
    "store_df.head()"
   ]
  },
  {
   "cell_type": "code",
   "execution_count": null,
   "metadata": {
    "collapsed": true
   },
   "outputs": [],
   "source": []
  },
  {
   "cell_type": "code",
   "execution_count": 41,
   "metadata": {
    "collapsed": false
   },
   "outputs": [
    {
     "data": {
      "text/plain": [
       "0        1270\n",
       "1         570\n",
       "2       14130\n",
       "3         620\n",
       "4       29910\n",
       "5         310\n",
       "6       24000\n",
       "7        7520\n",
       "8        2030\n",
       "9        3160\n",
       "10        960\n",
       "11       1070\n",
       "12        310\n",
       "13       1300\n",
       "14       4110\n",
       "15       3270\n",
       "16         50\n",
       "17      13840\n",
       "18       3240\n",
       "19       2340\n",
       "20        550\n",
       "21       1040\n",
       "22       4060\n",
       "23       4590\n",
       "24        430\n",
       "25       2300\n",
       "26         60\n",
       "27       1200\n",
       "28       2170\n",
       "29         40\n",
       "        ...  \n",
       "1085      180\n",
       "1086     2210\n",
       "1087     4300\n",
       "1088     5220\n",
       "1089      330\n",
       "1090     9990\n",
       "1091      300\n",
       "1092    10450\n",
       "1093     2380\n",
       "1094      690\n",
       "1095     1130\n",
       "1096      720\n",
       "1097     1830\n",
       "1098      200\n",
       "1099      540\n",
       "1100     4060\n",
       "1101      850\n",
       "1102     1340\n",
       "1103      260\n",
       "1104      330\n",
       "1105     5330\n",
       "1106     1400\n",
       "1107      540\n",
       "1108     3490\n",
       "1109      900\n",
       "1110     1900\n",
       "1111     1880\n",
       "1112     9260\n",
       "1113      870\n",
       "1114     5350\n",
       "Name: CompetitionDistance, dtype: float64"
      ]
     },
     "execution_count": 41,
     "metadata": {},
     "output_type": "execute_result"
    }
   ],
   "source": [
    "# CompetitionDistance\n",
    "\n",
    "# fill NaN values\n",
    "store_df[\"CompetitionDistance\"].fillna(store_df[\"CompetitionDistance\"].median())"
   ]
  },
  {
   "cell_type": "code",
   "execution_count": 42,
   "metadata": {
    "collapsed": true
   },
   "outputs": [],
   "source": [
    "from sklearn.metrics import r2_score"
   ]
  },
  {
   "cell_type": "code",
   "execution_count": 43,
   "metadata": {
    "collapsed": false
   },
   "outputs": [
    {
     "data": {
      "text/html": [
       "<div>\n",
       "<table border=\"1\" class=\"dataframe\">\n",
       "  <thead>\n",
       "    <tr style=\"text-align: right;\">\n",
       "      <th>Store</th>\n",
       "      <th>1</th>\n",
       "      <th>2</th>\n",
       "      <th>3</th>\n",
       "      <th>4</th>\n",
       "      <th>5</th>\n",
       "      <th>6</th>\n",
       "      <th>7</th>\n",
       "      <th>8</th>\n",
       "      <th>9</th>\n",
       "      <th>10</th>\n",
       "      <th>...</th>\n",
       "      <th>1106</th>\n",
       "      <th>1107</th>\n",
       "      <th>1108</th>\n",
       "      <th>1109</th>\n",
       "      <th>1110</th>\n",
       "      <th>1111</th>\n",
       "      <th>1112</th>\n",
       "      <th>1113</th>\n",
       "      <th>1114</th>\n",
       "      <th>1115</th>\n",
       "    </tr>\n",
       "    <tr>\n",
       "      <th>Date</th>\n",
       "      <th></th>\n",
       "      <th></th>\n",
       "      <th></th>\n",
       "      <th></th>\n",
       "      <th></th>\n",
       "      <th></th>\n",
       "      <th></th>\n",
       "      <th></th>\n",
       "      <th></th>\n",
       "      <th></th>\n",
       "      <th></th>\n",
       "      <th></th>\n",
       "      <th></th>\n",
       "      <th></th>\n",
       "      <th></th>\n",
       "      <th></th>\n",
       "      <th></th>\n",
       "      <th></th>\n",
       "      <th></th>\n",
       "      <th></th>\n",
       "      <th></th>\n",
       "    </tr>\n",
       "  </thead>\n",
       "  <tbody>\n",
       "    <tr>\n",
       "      <th>2013-01</th>\n",
       "      <td>128431</td>\n",
       "      <td>115171</td>\n",
       "      <td>165653</td>\n",
       "      <td>234713</td>\n",
       "      <td>109442</td>\n",
       "      <td>152265</td>\n",
       "      <td>188032</td>\n",
       "      <td>122293</td>\n",
       "      <td>127016</td>\n",
       "      <td>130042</td>\n",
       "      <td>...</td>\n",
       "      <td>115116</td>\n",
       "      <td>143763</td>\n",
       "      <td>143571</td>\n",
       "      <td>119190</td>\n",
       "      <td>106800</td>\n",
       "      <td>128626</td>\n",
       "      <td>304489</td>\n",
       "      <td>155879</td>\n",
       "      <td>456530</td>\n",
       "      <td>116482</td>\n",
       "    </tr>\n",
       "    <tr>\n",
       "      <th>2013-02</th>\n",
       "      <td>125271</td>\n",
       "      <td>111114</td>\n",
       "      <td>160167</td>\n",
       "      <td>230473</td>\n",
       "      <td>101126</td>\n",
       "      <td>139655</td>\n",
       "      <td>178830</td>\n",
       "      <td>119828</td>\n",
       "      <td>126826</td>\n",
       "      <td>122956</td>\n",
       "      <td>...</td>\n",
       "      <td>107923</td>\n",
       "      <td>140576</td>\n",
       "      <td>127544</td>\n",
       "      <td>115328</td>\n",
       "      <td>99489</td>\n",
       "      <td>122822</td>\n",
       "      <td>301544</td>\n",
       "      <td>147817</td>\n",
       "      <td>446745</td>\n",
       "      <td>123114</td>\n",
       "    </tr>\n",
       "    <tr>\n",
       "      <th>2013-03</th>\n",
       "      <td>145169</td>\n",
       "      <td>130525</td>\n",
       "      <td>189179</td>\n",
       "      <td>255514</td>\n",
       "      <td>116860</td>\n",
       "      <td>162550</td>\n",
       "      <td>213082</td>\n",
       "      <td>135408</td>\n",
       "      <td>143583</td>\n",
       "      <td>133609</td>\n",
       "      <td>...</td>\n",
       "      <td>124035</td>\n",
       "      <td>170060</td>\n",
       "      <td>148065</td>\n",
       "      <td>124393</td>\n",
       "      <td>116539</td>\n",
       "      <td>138298</td>\n",
       "      <td>312362</td>\n",
       "      <td>171412</td>\n",
       "      <td>516987</td>\n",
       "      <td>155033</td>\n",
       "    </tr>\n",
       "    <tr>\n",
       "      <th>2013-04</th>\n",
       "      <td>118009</td>\n",
       "      <td>116878</td>\n",
       "      <td>172188</td>\n",
       "      <td>226981</td>\n",
       "      <td>106141</td>\n",
       "      <td>154269</td>\n",
       "      <td>197381</td>\n",
       "      <td>127236</td>\n",
       "      <td>136194</td>\n",
       "      <td>131040</td>\n",
       "      <td>...</td>\n",
       "      <td>110478</td>\n",
       "      <td>154915</td>\n",
       "      <td>132135</td>\n",
       "      <td>118303</td>\n",
       "      <td>106745</td>\n",
       "      <td>131652</td>\n",
       "      <td>284870</td>\n",
       "      <td>148796</td>\n",
       "      <td>497336</td>\n",
       "      <td>126212</td>\n",
       "    </tr>\n",
       "    <tr>\n",
       "      <th>2013-05</th>\n",
       "      <td>118225</td>\n",
       "      <td>116379</td>\n",
       "      <td>170374</td>\n",
       "      <td>235284</td>\n",
       "      <td>110292</td>\n",
       "      <td>157972</td>\n",
       "      <td>210921</td>\n",
       "      <td>126886</td>\n",
       "      <td>136540</td>\n",
       "      <td>130642</td>\n",
       "      <td>...</td>\n",
       "      <td>111092</td>\n",
       "      <td>151585</td>\n",
       "      <td>131119</td>\n",
       "      <td>117329</td>\n",
       "      <td>105277</td>\n",
       "      <td>128784</td>\n",
       "      <td>284762</td>\n",
       "      <td>155649</td>\n",
       "      <td>503359</td>\n",
       "      <td>131329</td>\n",
       "    </tr>\n",
       "  </tbody>\n",
       "</table>\n",
       "<p>5 rows × 1115 columns</p>\n",
       "</div>"
      ],
      "text/plain": [
       "Store      1       2       3       4       5       6       7       8     \\\n",
       "Date                                                                      \n",
       "2013-01  128431  115171  165653  234713  109442  152265  188032  122293   \n",
       "2013-02  125271  111114  160167  230473  101126  139655  178830  119828   \n",
       "2013-03  145169  130525  189179  255514  116860  162550  213082  135408   \n",
       "2013-04  118009  116878  172188  226981  106141  154269  197381  127236   \n",
       "2013-05  118225  116379  170374  235284  110292  157972  210921  126886   \n",
       "\n",
       "Store      9       10     ...      1106    1107    1108    1109    1110  \\\n",
       "Date                      ...                                             \n",
       "2013-01  127016  130042   ...    115116  143763  143571  119190  106800   \n",
       "2013-02  126826  122956   ...    107923  140576  127544  115328   99489   \n",
       "2013-03  143583  133609   ...    124035  170060  148065  124393  116539   \n",
       "2013-04  136194  131040   ...    110478  154915  132135  118303  106745   \n",
       "2013-05  136540  130642   ...    111092  151585  131119  117329  105277   \n",
       "\n",
       "Store      1111    1112    1113    1114    1115  \n",
       "Date                                             \n",
       "2013-01  128626  304489  155879  456530  116482  \n",
       "2013-02  122822  301544  147817  446745  123114  \n",
       "2013-03  138298  312362  171412  516987  155033  \n",
       "2013-04  131652  284870  148796  497336  126212  \n",
       "2013-05  128784  284762  155649  503359  131329  \n",
       "\n",
       "[5 rows x 1115 columns]"
      ]
     },
     "execution_count": 43,
     "metadata": {},
     "output_type": "execute_result"
    }
   ],
   "source": [
    "# Correlation\n",
    "# Visualize the Correlation between stores\n",
    "\n",
    "store_piv       = pd.pivot_table(rossmann_df,values='Sales', index='Date', columns=['Store'],aggfunc='sum')\n",
    "store_pct_chage = store_piv.pct_change().dropna()\n",
    "store_piv.head()"
   ]
  },
  {
   "cell_type": "code",
   "execution_count": 44,
   "metadata": {
    "collapsed": true
   },
   "outputs": [],
   "source": [
    "###Below is Linear Regression "
   ]
  },
  {
   "cell_type": "code",
   "execution_count": 45,
   "metadata": {
    "collapsed": true
   },
   "outputs": [],
   "source": [
    "# We only use 2015 for prediction \n",
    "\n",
    "# drop Year and Month\n",
    "rossmann_df.drop([\"Year\", \"Month\"], axis=1, inplace=True)\n",
    "test_df.drop([\"Year\", \"Month\"], axis=1, inplace=True)\n",
    "\n",
    "# Create dummy varibles for DayOfWeek\n",
    "day_dummies_rossmann  = pd.get_dummies(rossmann_df['DayOfWeek'], prefix='Day')\n",
    "day_dummies_rossmann.drop(['Day_7'], axis=1, inplace=True)\n",
    "\n",
    "day_dummies_test  = pd.get_dummies(test_df['DayOfWeek'],prefix='Day')\n",
    "day_dummies_test.drop(['Day_7'], axis=1, inplace=True)\n",
    "\n",
    "rossmann_df = rossmann_df.join(day_dummies_rossmann)\n",
    "test_df     = test_df.join(day_dummies_test)\n",
    "\n",
    "rossmann_df.drop(['DayOfWeek'], axis=1,inplace=True)\n",
    "test_df.drop(['DayOfWeek'], axis=1,inplace=True)"
   ]
  },
  {
   "cell_type": "code",
   "execution_count": 46,
   "metadata": {
    "collapsed": true
   },
   "outputs": [],
   "source": [
    "# remove all rows(store,date) that were closed\n",
    "rossmann_df = rossmann_df[rossmann_df[\"Open\"] != 0]\n",
    "\n",
    "# drop unnecessary columns, these columns won't be useful in prediction\n",
    "rossmann_df.drop([\"Open\",\"Customers\", \"Date\"], axis=1, inplace=True)"
   ]
  },
  {
   "cell_type": "code",
   "execution_count": 47,
   "metadata": {
    "collapsed": true
   },
   "outputs": [],
   "source": [
    "# save ids of closed stores,and will assign their sales value to 0 later\n",
    "closed_store_ids = test_df[\"Id\"][test_df[\"Open\"] == 0].values\n",
    "\n",
    "# remove all rows(store,date) that were closed\n",
    "test_df = test_df[test_df[\"Open\"] != 0]\n",
    "\n",
    "# drop unnecessary columns, these columns won't be useful in prediction\n",
    "test_df.drop(['Open', 'Date'], axis=1,inplace=True)"
   ]
  },
  {
   "cell_type": "code",
   "execution_count": 48,
   "metadata": {
    "collapsed": false
   },
   "outputs": [],
   "source": [
    "# Loop through each store, \n",
    "# train the model using the data of current store, and predict it's sales values. Using Linear Regression \n",
    "\n",
    "rossmann_dic = dict(list(rossmann_df.groupby('Store')))\n",
    "test_dic     = dict(list(test_df.groupby('Store')))\n",
    "submission   = Series()\n",
    "scores       = []\n",
    "\n",
    "for i in test_dic:\n",
    "    \n",
    "    # current store\n",
    "    store = rossmann_dic[i]\n",
    "    \n",
    "    # define training and testing sets\n",
    "    X_train = store.drop([\"Sales\",\"Store\"],axis=1)\n",
    "    Y_train = store[\"Sales\"]\n",
    "    X_test  = test_dic[i].copy()\n",
    "    \n",
    "    store_ids = X_test[\"Id\"]\n",
    "    X_test.drop([\"Id\",\"Store\"], axis=1,inplace=True)\n",
    "    \n",
    "    # Linear Regression\n",
    "    lreg = LinearRegression()\n",
    "    lreg.fit(X_train, Y_train)\n",
    "    Y_pred = lreg.predict(X_test)\n",
    "    scores.append(lreg.score(X_train, Y_train))\n",
    "    \n",
    "\n",
    "    #reg.summary()\n",
    "    #Equation coefficient and Intercept\n",
    "    #print('Coefficient: \\n', lreg.coef_)\n",
    "   # print('Intercept: \\n', lreg.intercept_)\n",
    "\n",
    "        \n",
    "    # append predicted values of current store to submission\n",
    "    submission = submission.append(Series(Y_pred, index=store_ids))\n",
    "\n",
    "# append rows(store,date) that were closed, and assign their sales value to 0\n",
    "submission = submission.append(Series(0, index=closed_store_ids))\n",
    "\n",
    "# save to csv file\n",
    "submission = pd.DataFrame({ \"Id\": submission.index, \"Sales\": submission.values})\n",
    "submission.to_csv('regnrossn.csv', index=False)"
   ]
  },
  {
   "cell_type": "code",
   "execution_count": 49,
   "metadata": {
    "collapsed": false
   },
   "outputs": [
    {
     "name": "stdout",
     "output_type": "stream",
     "text": [
      "(781, 9)\n"
     ]
    }
   ],
   "source": [
    "print(X_train.shape)"
   ]
  },
  {
   "cell_type": "code",
   "execution_count": 50,
   "metadata": {
    "collapsed": false
   },
   "outputs": [
    {
     "name": "stdout",
     "output_type": "stream",
     "text": [
      "(781L,)\n"
     ]
    }
   ],
   "source": [
    "print (Y_train.shape)"
   ]
  },
  {
   "cell_type": "code",
   "execution_count": 51,
   "metadata": {
    "collapsed": false
   },
   "outputs": [
    {
     "name": "stdout",
     "output_type": "stream",
     "text": [
      "(41, 9)\n"
     ]
    }
   ],
   "source": [
    "print (X_test.shape)"
   ]
  },
  {
   "cell_type": "code",
   "execution_count": 52,
   "metadata": {
    "collapsed": false
   },
   "outputs": [
    {
     "name": "stdout",
     "output_type": "stream",
     "text": [
      "(41L,)\n"
     ]
    }
   ],
   "source": [
    "print (Y_pred.shape)"
   ]
  },
  {
   "cell_type": "code",
   "execution_count": 53,
   "metadata": {
    "collapsed": false
   },
   "outputs": [
    {
     "name": "stdout",
     "output_type": "stream",
     "text": [
      "0.44869486979\n"
     ]
    }
   ],
   "source": [
    "### Coefficient of determination of R2\n",
    "\n",
    "print (lreg.score(X_train, Y_train))"
   ]
  },
  {
   "cell_type": "code",
   "execution_count": null,
   "metadata": {
    "collapsed": false,
    "scrolled": true
   },
   "outputs": [],
   "source": []
  },
  {
   "cell_type": "code",
   "execution_count": null,
   "metadata": {
    "collapsed": true
   },
   "outputs": [],
   "source": []
  },
  {
   "cell_type": "code",
   "execution_count": 54,
   "metadata": {
    "collapsed": true
   },
   "outputs": [],
   "source": [
    "import time\n",
    "import sys\n",
    "from datetime import date, datetime"
   ]
  },
  {
   "cell_type": "code",
   "execution_count": 55,
   "metadata": {
    "collapsed": false
   },
   "outputs": [
    {
     "name": "stdout",
     "output_type": "stream",
     "text": [
      "Sales shape: (1017209, 9) --> columns: Store, DayOfWeek, Date, Sales, Customers, Open, Promo, StateHoliday, SchoolHoliday\n",
      "Store shape: (1115, 10) --> columns: Store, StoreType, Assortment, CompetitionDistance, CompetitionOpenSinceMonth, CompetitionOpenSinceYear, Promo2, Promo2SinceWeek, Promo2SinceYear, PromoInterval\n"
     ]
    }
   ],
   "source": [
    "#Import sales, store\n",
    "sales = pd.read_csv('train.csv', dtype={'StateHoliday': np.character})\n",
    "stores = pd.read_csv('store.csv')\n",
    "\n",
    "print(\"Sales shape: %s --> columns: %s\" % (sales.shape, \", \".join(sales.columns)))\n",
    "print(\"Store shape: %s --> columns: %s\" % (stores.shape, \", \".join(stores.columns)))"
   ]
  },
  {
   "cell_type": "code",
   "execution_count": 56,
   "metadata": {
    "collapsed": true
   },
   "outputs": [],
   "source": [
    "\n",
    "df = pd.merge(sales, stores, on='Store')\n",
    "#print \"Sales & Store joined shape: %s\" % (sf.shape, )\n",
    "\n",
    "df['Open'] = df['Open'].apply(lambda x: 0 if np.isnan(x) else x)\n",
    "\n",
    "df['has_sales'] = df['Sales'].apply(lambda x: x > 0)\n",
    "df['has_customers'] = df['Customers'].apply(lambda x: x != 0)\n",
    "\n",
    "date_format = '%d/%m/%Y'\n",
    "if '-' in df.at[0, 'Date']:\n",
    "    date_format = '%Y-%m-%d'\n",
    "\n",
    "    #temporary column that have the date parsed in order to speed up further processing\n",
    "    df['_date'] = df['Date'].apply(lambda x: datetime.strptime(x, date_format))\n",
    "\n",
    "    df['month'] = df['_date'].apply(lambda x: x.month)\n",
    "    df['week_of_month'] = df['_date'].apply(lambda x: x.isocalendar()[1])\n",
    "    df['year'] = df['_date'].apply(lambda x: x.isocalendar()[0])"
   ]
  },
  {
   "cell_type": "code",
   "execution_count": 57,
   "metadata": {
    "collapsed": false
   },
   "outputs": [
    {
     "data": {
      "text/plain": [
       "<matplotlib.axes._subplots.AxesSubplot at 0x237242e8>"
      ]
     },
     "execution_count": 57,
     "metadata": {},
     "output_type": "execute_result"
    },
    {
     "data": {
      "image/png": "[encoded data removed]",
      "text/plain": [
       "<matplotlib.figure.Figure at 0x25cb6d30>"
      ]
     },
     "metadata": {},
     "output_type": "display_data"
    }
   ],
   "source": [
    "data = df[(df['Sales']!=0)].groupby(['DayOfWeek']).Sales.mean()\n",
    "data.plot('bar',color='red')"
   ]
  },
  {
   "cell_type": "code",
   "execution_count": 58,
   "metadata": {
    "collapsed": true
   },
   "outputs": [],
   "source": [
    "## The above plot is mean of Sales as per day of Week"
   ]
  },
  {
   "cell_type": "code",
   "execution_count": 59,
   "metadata": {
    "collapsed": false
   },
   "outputs": [
    {
     "data": {
      "text/plain": [
       "<matplotlib.axes._subplots.AxesSubplot at 0x23fe7c50>"
      ]
     },
     "execution_count": 59,
     "metadata": {},
     "output_type": "execute_result"
    },
    {
     "data": {
      "image/png": "[encoded data removed]",
      "text/plain": [
       "<matplotlib.figure.Figure at 0x23feb588>"
      ]
     },
     "metadata": {},
     "output_type": "display_data"
    }
   ],
   "source": [
    "data = df[(df['Sales']!=0)].groupby(['Customers']).Customers.mean()\n",
    "data.plot('bar',color='yellow')"
   ]
  },
  {
   "cell_type": "code",
   "execution_count": 60,
   "metadata": {
    "collapsed": true
   },
   "outputs": [],
   "source": [
    "### Trying out Random Forest Algorithm "
   ]
  },
  {
   "cell_type": "code",
   "execution_count": 61,
   "metadata": {
    "collapsed": true
   },
   "outputs": [],
   "source": [
    "#### use of sklearn -- RandomForest Regressors"
   ]
  },
  {
   "cell_type": "code",
   "execution_count": 62,
   "metadata": {
    "collapsed": true
   },
   "outputs": [],
   "source": [
    "import pandas as pd\n",
    "import numpy as np\n",
    "import sklearn.externals.joblib as jl\n",
    "\n",
    "import sklearn.cross_validation as cv\n",
    "import sklearn.feature_extraction as fe"
   ]
  },
  {
   "cell_type": "code",
   "execution_count": 63,
   "metadata": {
    "collapsed": true
   },
   "outputs": [],
   "source": [
    "import sklearn.svm as svm\n",
    "\n",
    "import matplotlib.pyplot as plt\n",
    "\n",
    "import sklearn.linear_model as lm\n",
    "\n",
    "import sklearn.preprocessing as preprocessing\n",
    "\n",
    "import sklearn.ensemble as es"
   ]
  },
  {
   "cell_type": "code",
   "execution_count": 64,
   "metadata": {
    "collapsed": true
   },
   "outputs": [],
   "source": [
    "\n",
    "store = pd.read_csv('store.csv')\n",
    "train = pd.read_csv('train.csv',low_memory=False)\n",
    "test = pd.read_csv('test.csv')"
   ]
  },
  {
   "cell_type": "code",
   "execution_count": 65,
   "metadata": {
    "collapsed": true
   },
   "outputs": [],
   "source": [
    "df_train = train.copy()\n",
    "df_test = test.copy()"
   ]
  },
  {
   "cell_type": "code",
   "execution_count": 66,
   "metadata": {
    "collapsed": true
   },
   "outputs": [],
   "source": [
    "## Merge store\n",
    "df_train = pd.merge(train,store,on='Store')\n",
    "df_test = pd.merge(test,store,on='Store')"
   ]
  },
  {
   "cell_type": "code",
   "execution_count": 67,
   "metadata": {
    "collapsed": true
   },
   "outputs": [],
   "source": [
    "sale_means = train.groupby('Store').mean().Sales\n",
    "sale_means.name = 'Sales_Means'\n",
    "\n",
    "df_train = df_train.join(sale_means,on='Store')\n",
    "df_test = df_test.join(sale_means,on='Store')"
   ]
  },
  {
   "cell_type": "code",
   "execution_count": 68,
   "metadata": {
    "collapsed": true
   },
   "outputs": [],
   "source": [
    "y = df_train.Sales.tolist()\n",
    "\n",
    "df_train_ = df_train.drop(['Date','Sales','Store','Customers'],axis=1).fillna(0)\n",
    "\n",
    "\n",
    "\n",
    "train_dic = df_train_.fillna(0).to_dict('records')\n",
    "\n",
    "\n",
    "test_dic = df_test.drop([\"Date\",\"Store\",\"Id\"],axis=1).fillna(0).to_dict('records')"
   ]
  },
  {
   "cell_type": "code",
   "execution_count": 69,
   "metadata": {
    "collapsed": false
   },
   "outputs": [],
   "source": [
    "#transfrom dataframe to matrix by dict vectorizer\n",
    "dv = fe.DictVectorizer()\n",
    "X = dv.fit_transform(train_dic)\n",
    "Xo = dv.transform(test_dic)"
   ]
  },
  {
   "cell_type": "code",
   "execution_count": 70,
   "metadata": {
    "collapsed": true
   },
   "outputs": [],
   "source": [
    "#MIN_MAX SCALER\n",
    "maxmin = preprocessing.MinMaxScaler()\n",
    "X = maxmin.fit_transform(X.toarray())\n",
    "Xo = maxmin.transform(Xo.toarray())"
   ]
  },
  {
   "cell_type": "code",
   "execution_count": 71,
   "metadata": {
    "collapsed": true
   },
   "outputs": [],
   "source": [
    "Xtrain,Xtest,Ytrain,Ytest = cv.train_test_split(X,y)"
   ]
  },
  {
   "cell_type": "code",
   "execution_count": 72,
   "metadata": {
    "collapsed": false
   },
   "outputs": [
    {
     "data": {
      "text/plain": [
       "RandomForestRegressor(bootstrap=True, criterion='mse', max_depth=None,\n",
       "           max_features='auto', max_leaf_nodes=None, min_samples_leaf=1,\n",
       "           min_samples_split=2, min_weight_fraction_leaf=0.0,\n",
       "           n_estimators=50, n_jobs=8, oob_score=False, random_state=None,\n",
       "           verbose=True, warm_start=False)"
      ]
     },
     "execution_count": 72,
     "metadata": {},
     "output_type": "execute_result"
    }
   ],
   "source": [
    "clf = es.RandomForestRegressor(n_estimators=50)\n",
    "clf.verbose = True\n",
    "clf.n_jobs = 8\n",
    "clf"
   ]
  },
  {
   "cell_type": "code",
   "execution_count": 73,
   "metadata": {
    "collapsed": false
   },
   "outputs": [
    {
     "name": "stderr",
     "output_type": "stream",
     "text": [
      "[Parallel(n_jobs=8)]: Done   1 out of  50 | elapsed:   10.1s remaining:  8.4min\n",
      "[Parallel(n_jobs=8)]: Done  50 out of  50 | elapsed:  1.1min finished\n",
      "[Parallel(n_jobs=8)]: Done   1 out of  50 | elapsed:    0.2s remaining:   14.5s\n",
      "[Parallel(n_jobs=8)]: Done  50 out of  50 | elapsed:    1.7s finished\n",
      "[Parallel(n_jobs=8)]: Done   1 out of  11 | elapsed:    0.0s remaining:    0.5s\n",
      "[Parallel(n_jobs=8)]: Done  50 out of  50 | elapsed:    0.5s finished\n"
     ]
    },
    {
     "name": "stdout",
     "output_type": "stream",
     "text": [
      "Training Score :0.921791089074\n",
      "Test Score : 0.916074579524\n"
     ]
    }
   ],
   "source": [
    "clf.fit(Xtrain,Ytrain)\n",
    "print (\"Training Score :\" + str(clf.score(Xtrain,Ytrain)))\n",
    "print (\"Test Score : \" + str(clf.score(Xtest,Ytest)) )"
   ]
  },
  {
   "cell_type": "code",
   "execution_count": 74,
   "metadata": {
    "collapsed": false
   },
   "outputs": [
    {
     "data": {
      "text/plain": [
       "<matplotlib.axes._subplots.AxesSubplot at 0x24494898>"
      ]
     },
     "execution_count": 74,
     "metadata": {},
     "output_type": "execute_result"
    },
    {
     "data": {
      "image/png": "[encoded data removed]",
      "text/plain": [
       "<matplotlib.figure.Figure at 0x3d062b0>"
      ]
     },
     "metadata": {},
     "output_type": "display_data"
    }
   ],
   "source": [
    "u = [i for i in zip(dv.feature_names_,clf.feature_importances_) ]\n",
    "\n",
    "u = pd.DataFrame(u,columns = ['Feature_Names','Importance'],index=dv.feature_names_)\n",
    "\n",
    "u.plot(kind='bar',layout='Feature_Names')"
   ]
  },
  {
   "cell_type": "code",
   "execution_count": 75,
   "metadata": {
    "collapsed": false,
    "scrolled": true
   },
   "outputs": [
    {
     "name": "stderr",
     "output_type": "stream",
     "text": [
      "[Parallel(n_jobs=8)]: Done   1 out of  50 | elapsed:    0.0s remaining:    0.7s\n",
      "[Parallel(n_jobs=8)]: Done  50 out of  50 | elapsed:    0.0s finished\n"
     ]
    }
   ],
   "source": [
    "result = clf.predict(Xo)"
   ]
  },
  {
   "cell_type": "code",
   "execution_count": 76,
   "metadata": {
    "collapsed": false
   },
   "outputs": [
    {
     "name": "stderr",
     "output_type": "stream",
     "text": [
      "[Parallel(n_jobs=8)]: Done   1 out of  50 | elapsed:    0.0s remaining:    4.3s\n",
      "[Parallel(n_jobs=8)]: Done  50 out of  50 | elapsed:    0.5s finished\n"
     ]
    }
   ],
   "source": [
    "Yresult = clf.predict(Xtest)\n"
   ]
  },
  {
   "cell_type": "code",
   "execution_count": 77,
   "metadata": {
    "collapsed": false
   },
   "outputs": [
    {
     "name": "stdout",
     "output_type": "stream",
     "text": [
      "[ 3680.05073954     0.          9052.26045218 ...,  8918.06042795     0.\n",
      "  5558.62773668]\n"
     ]
    }
   ],
   "source": [
    "print (Yresult)"
   ]
  },
  {
   "cell_type": "code",
   "execution_count": null,
   "metadata": {
    "collapsed": true
   },
   "outputs": [],
   "source": []
  },
  {
   "cell_type": "code",
   "execution_count": 78,
   "metadata": {
    "collapsed": true
   },
   "outputs": [],
   "source": [
    "output = pd.DataFrame(df_test.Id).join(pd.DataFrame(result,columns=['Sales']))"
   ]
  },
  {
   "cell_type": "code",
   "execution_count": 79,
   "metadata": {
    "collapsed": true
   },
   "outputs": [],
   "source": [
    "output.to_csv('randoutputx.csv',index=False)"
   ]
  },
  {
   "cell_type": "code",
   "execution_count": 80,
   "metadata": {
    "collapsed": true
   },
   "outputs": [],
   "source": [
    "#### References : http://Kaggle.com\n",
    "####            : http://blog.yhathq.com\n",
    "####            : http://www.analyticsvidhya.com\n",
    "####            : http://machinelearningmastery.com"
   ]
  },
  {
   "cell_type": "code",
   "execution_count": null,
   "metadata": {
    "collapsed": true
   },
   "outputs": [],
   "source": []
  }
 ],
 "metadata": {
  "kernelspec": {
   "display_name": "Python 2",
   "language": "python",
   "name": "python2"
  },
  "language_info": {
   "codemirror_mode": {
    "name": "ipython",
    "version": 2
   },
   "file_extension": ".py",
   "mimetype": "text/x-python",
   "name": "python",
   "nbconvert_exporter": "python",
   "pygments_lexer": "ipython2",
   "version": "2.7.10"
  }
 },
 "nbformat": 4,
 "nbformat_minor": 0
}
